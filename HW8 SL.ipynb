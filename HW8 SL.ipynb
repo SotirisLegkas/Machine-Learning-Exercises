{
 "cells": [
  {
   "cell_type": "markdown",
   "metadata": {},
   "source": [
    "8th Homework"
   ]
  },
  {
   "cell_type": "markdown",
   "metadata": {},
   "source": [
    "Exercise 6"
   ]
  },
  {
   "cell_type": "markdown",
   "metadata": {},
   "source": [
    "a)"
   ]
  },
  {
   "cell_type": "code",
   "execution_count": 27,
   "metadata": {},
   "outputs": [],
   "source": [
    "import scipy.io as sio\n",
    "import numpy as np\n",
    "import matplotlib.pyplot as plt\n",
    "\n",
    "Dataset = sio.loadmat('HW8.mat')\n",
    "train_x = Dataset['train_x']\n",
    "train_y= Dataset['train_y']\n",
    "\n",
    "test_x = Dataset['test_x']\n",
    "test_y = Dataset['test_y']"
   ]
  },
  {
   "cell_type": "markdown",
   "metadata": {},
   "source": [
    "i)"
   ]
  },
  {
   "cell_type": "code",
   "execution_count": 28,
   "metadata": {},
   "outputs": [],
   "source": [
    "N=len(train_y)\n",
    "N1=len(train_y[train_y==1])\n",
    "N2=len(train_y[train_y==2])\n",
    "\n",
    "Pw1=N1/N\n",
    "Pw2=N2/N\n",
    "\n",
    "m1=np.mean(train_x[np.where(train_y==1)[0],:],0)\n",
    "m2=np.mean(train_x[np.where(train_y==2)[0],:],0)\n",
    "\n",
    "s1=(1/N1)*np.dot((train_x[np.where(train_y==1)[0],:]-m1).T,(train_x[np.where(train_y==1)[0],:]-m1))\n",
    "s2=(1/N2)*np.dot((train_x[np.where(train_y==2)[0],:]-m2).T,(train_x[np.where(train_y==2)[0],:]-m2))"
   ]
  },
  {
   "cell_type": "markdown",
   "metadata": {},
   "source": [
    "ii)"
   ]
  },
  {
   "cell_type": "code",
   "execution_count": 29,
   "metadata": {},
   "outputs": [],
   "source": [
    "from scipy.stats import multivariate_normal\n",
    "\n",
    "class1score=Pw1*multivariate_normal.pdf(test_x,mean=m1,cov=s1)\n",
    "class2score=Pw2*multivariate_normal.pdf(test_x,mean=m2,cov=s2)\n",
    "\n",
    "Btest_y=np.zeros((len(test_y),1))\n",
    "for i in range(len(test_y)):\n",
    "    if class1score[i]>class2score[i]:\n",
    "        Btest_y[i]=1\n",
    "    else:\n",
    "        Btest_y[i]=2"
   ]
  },
  {
   "cell_type": "markdown",
   "metadata": {},
   "source": [
    "iii)"
   ]
  },
  {
   "cell_type": "code",
   "execution_count": 30,
   "metadata": {},
   "outputs": [
    {
     "name": "stdout",
     "output_type": "stream",
     "text": [
      "0.15000000000000002\n"
     ]
    }
   ],
   "source": [
    "correct=0\n",
    "for i in range(len(test_y)):\n",
    "    if Btest_y[i]==test_y[i]:\n",
    "        correct=correct+1\n",
    "\n",
    "Berror=1-(correct/len(test_y))\n",
    "print(Berror)"
   ]
  },
  {
   "cell_type": "markdown",
   "metadata": {},
   "source": [
    "b)"
   ]
  },
  {
   "cell_type": "markdown",
   "metadata": {},
   "source": [
    "i)"
   ]
  },
  {
   "cell_type": "markdown",
   "metadata": {},
   "source": [
    "ii)"
   ]
  },
  {
   "cell_type": "code",
   "execution_count": 31,
   "metadata": {},
   "outputs": [],
   "source": [
    "from scipy.stats import norm\n",
    "\n",
    "class1scores=Pw1*norm.pdf(test_x[:,0],m1[0],np.sqrt(s1[0,0]))*norm.pdf(test_x[:,1],m1[1],np.sqrt(s1[1,1]))\n",
    "class2scores=Pw2*norm.pdf(test_x[:,0],m2[0],np.sqrt(s2[0,0]))*norm.pdf(test_x[:,1],m2[1],np.sqrt(s2[1,1]))\n",
    "\n",
    "\n",
    "NBtest_y=np.zeros((len(test_y),1))\n",
    "for i in range(len(test_y)):\n",
    "    if class1scores[i]>class2scores[i]:\n",
    "        NBtest_y[i]=1\n",
    "    else:\n",
    "        NBtest_y[i]=2"
   ]
  },
  {
   "cell_type": "markdown",
   "metadata": {},
   "source": [
    "iii)"
   ]
  },
  {
   "cell_type": "code",
   "execution_count": 32,
   "metadata": {},
   "outputs": [
    {
     "name": "stdout",
     "output_type": "stream",
     "text": [
      "0.16500000000000004\n"
     ]
    }
   ],
   "source": [
    "correct=0\n",
    "for i in range(len(test_y)):\n",
    "    if NBtest_y[i]==test_y[i]:\n",
    "        correct=correct+1\n",
    "\n",
    "NBerror=1-(correct/len(test_y))\n",
    "print(NBerror)"
   ]
  },
  {
   "cell_type": "markdown",
   "metadata": {},
   "source": [
    "c)"
   ]
  },
  {
   "cell_type": "code",
   "execution_count": 33,
   "metadata": {},
   "outputs": [
    {
     "name": "stdout",
     "output_type": "stream",
     "text": [
      "0.17000000000000004\n"
     ]
    },
    {
     "name": "stderr",
     "output_type": "stream",
     "text": [
      "C:\\Users\\sotir\\anaconda3\\lib\\site-packages\\sklearn\\neighbors\\_classification.py:179: DataConversionWarning: A column-vector y was passed when a 1d array was expected. Please change the shape of y to (n_samples,), for example using ravel().\n",
      "  return self._fit(X, y)\n"
     ]
    }
   ],
   "source": [
    "from sklearn.neighbors import KNeighborsClassifier\n",
    "\n",
    "KN=KNeighborsClassifier(n_neighbors=5)\n",
    "KN.fit(train_x,train_y)\n",
    "\n",
    "KNtest_y=KN.predict(test_x)\n",
    "\n",
    "correct=0\n",
    "for i in range(len(test_y)):\n",
    "    if KNtest_y[i]==test_y[i]:\n",
    "        correct=correct+1\n",
    "\n",
    "KNerror=1-(correct/len(test_y))\n",
    "print(KNerror)"
   ]
  },
  {
   "cell_type": "markdown",
   "metadata": {},
   "source": [
    "d)"
   ]
  },
  {
   "cell_type": "code",
   "execution_count": 34,
   "metadata": {},
   "outputs": [
    {
     "name": "stdout",
     "output_type": "stream",
     "text": [
      "0.15500000000000003\n"
     ]
    },
    {
     "name": "stderr",
     "output_type": "stream",
     "text": [
      "C:\\Users\\sotir\\anaconda3\\lib\\site-packages\\sklearn\\utils\\validation.py:63: DataConversionWarning: A column-vector y was passed when a 1d array was expected. Please change the shape of y to (n_samples, ), for example using ravel().\n",
      "  return f(*args, **kwargs)\n"
     ]
    }
   ],
   "source": [
    "from sklearn.linear_model import LogisticRegression\n",
    "\n",
    "LR=LogisticRegression()\n",
    "LR.fit(train_x,train_y)\n",
    "\n",
    "LRtest_y=LR.predict(test_x)\n",
    "\n",
    "correct=0\n",
    "for i in range(len(test_y)):\n",
    "    if LRtest_y[i]==test_y[i]:\n",
    "        correct=correct+1\n",
    "\n",
    "LRerror=1-(correct/len(test_y))\n",
    "print(LRerror)"
   ]
  },
  {
   "cell_type": "markdown",
   "metadata": {},
   "source": [
    "e)"
   ]
  },
  {
   "cell_type": "code",
   "execution_count": 35,
   "metadata": {},
   "outputs": [
    {
     "data": {
      "image/png": "[encoded data removed]",
      "text/plain": [
       "<Figure size 432x288 with 1 Axes>"
      ]
     },
     "metadata": {
      "needs_background": "light"
     },
     "output_type": "display_data"
    }
   ],
   "source": [
    "plt.plot(train_x[np.where(train_y==1)[0],0],train_x[np.where(train_y==1)[0],1],'ro',label='class 1')\n",
    "plt.plot(train_x[np.where(train_y==2)[0],0],train_x[np.where(train_y==2)[0],1],'bo',label='class 2')\n",
    "plt.legend()\n",
    "plt.title('Train set')\n",
    "plt.show()"
   ]
  },
  {
   "cell_type": "markdown",
   "metadata": {},
   "source": [
    "f)"
   ]
  },
  {
   "cell_type": "code",
   "execution_count": 36,
   "metadata": {},
   "outputs": [
    {
     "name": "stdout",
     "output_type": "stream",
     "text": [
      "Bayes error is  0.15000000000000002\n",
      "Naive Bayes error is  0.16500000000000004\n",
      "KNeighbors error is  0.17000000000000004\n",
      "Logistic Regression error is  0.15500000000000003\n"
     ]
    }
   ],
   "source": [
    "print('Bayes error is ',Berror)\n",
    "\n",
    "print('Naive Bayes error is ',NBerror)\n",
    "\n",
    "print('KNeighbors error is ',KNerror)\n",
    "\n",
    "print('Logistic Regression error is ',LRerror)\n"
   ]
  },
  {
   "cell_type": "markdown",
   "metadata": {},
   "source": [
    "From the results above, it can be seen that the Bayes classifier is the best out of the four. The Logistic regression is very close to the Bayes classifier. The reason is that from the graph above we can see that the two classes can be linearly separated relative well, so the logistic regression gives good results. The KNeighbors classifier gives the worst results out of the four. The naive Bayes classifier is a little worse than the Bayes classifier. The reason is that the covariances is not diagonal and we get slightly different results. If the covariances of the two classes were diagonal then the naive Bayes and the Bayes classifier would be the same. "
   ]
  }
 ],
 "metadata": {
  "kernelspec": {
   "display_name": "Python 3 (ipykernel)",
   "language": "python",
   "name": "python3"
  },
  "language_info": {
   "codemirror_mode": {
    "name": "ipython",
    "version": 3
   },
   "file_extension": ".py",
   "mimetype": "text/x-python",
   "name": "python",
   "nbconvert_exporter": "python",
   "pygments_lexer": "ipython3",
   "version": "3.8.8"
  }
 },
 "nbformat": 4,
 "nbformat_minor": 2
}
