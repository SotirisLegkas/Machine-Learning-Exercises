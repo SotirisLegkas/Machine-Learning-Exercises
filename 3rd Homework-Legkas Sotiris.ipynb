{
 "cells": [
  {
   "cell_type": "markdown",
   "id": "06fa037a",
   "metadata": {},
   "source": [
    "3rd Homework"
   ]
  },
  {
   "cell_type": "markdown",
   "id": "52547046",
   "metadata": {},
   "source": [
    "Exercise 5"
   ]
  },
  {
   "cell_type": "markdown",
   "id": "528e4ae3",
   "metadata": {},
   "source": [
    "a)"
   ]
  },
  {
   "cell_type": "code",
   "execution_count": 12,
   "id": "93ace097",
   "metadata": {},
   "outputs": [],
   "source": [
    "import numpy as np\n",
    "import matplotlib.pyplot as plt\n",
    "X=[]\n",
    "Y=[]\n",
    "\n",
    "for i in range(50):\n",
    "    x=np.random.uniform(0,10,30)\n",
    "    \n",
    "    y=2*x\n",
    "    y=y+np.random.normal(0,8,30)\n",
    "    \n",
    "    X.append(x)\n",
    "    Y.append(y)"
   ]
  },
  {
   "cell_type": "markdown",
   "id": "cf07ea3e",
   "metadata": {},
   "source": [
    "b)"
   ]
  },
  {
   "cell_type": "code",
   "execution_count": 13,
   "id": "dbdb3b55",
   "metadata": {},
   "outputs": [],
   "source": [
    "X=np.array(X).T\n",
    "Y=np.array(Y).T\n",
    "\n",
    "theta_est=[]\n",
    "for i in range(50):\n",
    "    Xnew = np.array([X[:,i]]).T\n",
    "    XTX=np.dot(Xnew.T, Xnew)\n",
    "    XTXinv=np.linalg.inv(XTX)\n",
    "    XTy=np.dot(Xnew.T,Y[:,i])\n",
    "    theta=np.dot(XTXinv,XTy)\n",
    "    theta_est.append(theta)"
   ]
  },
  {
   "cell_type": "markdown",
   "id": "2a21ed13",
   "metadata": {},
   "source": [
    "c1)"
   ]
  },
  {
   "cell_type": "code",
   "execution_count": 14,
   "id": "79510d37",
   "metadata": {},
   "outputs": [
    {
     "name": "stdout",
     "output_type": "stream",
     "text": [
      "[0.06360187]\n"
     ]
    }
   ],
   "source": [
    "t=0\n",
    "for i in range(50):\n",
    "    t=t+(theta_est[i]-2)**2\n",
    "MSE=t/50\n",
    "print(MSE)"
   ]
  },
  {
   "cell_type": "markdown",
   "id": "b7b9ec66",
   "metadata": {},
   "source": [
    "c2)"
   ]
  },
  {
   "cell_type": "code",
   "execution_count": 15,
   "id": "4cd8e2d4",
   "metadata": {},
   "outputs": [
    {
     "data": {
      "image/png": "[encoded data removed]",
      "text/plain": [
       "<Figure size 432x288 with 1 Axes>"
      ]
     },
     "metadata": {
      "needs_background": "light"
     },
     "output_type": "display_data"
    }
   ],
   "source": [
    "fig = plt.figure()\n",
    "ax = fig.add_subplot(111)\n",
    "ax.plot(range(-50,100), 2*np.ones(150))\n",
    "ax.scatter(range(50),theta_est,c='r')\n",
    "ax.set_xlabel('$D$')\n",
    "ax.set_ylabel('$theta est$')\n",
    "plt.xlim(-10, 60)\n",
    "plt.ylim(0,4)\n",
    "plt.show()"
   ]
  },
  {
   "cell_type": "markdown",
   "id": "a7dbf445",
   "metadata": {},
   "source": [
    "The gragh depicts the theta estimates. The Y axis depicts the values of theta estimates that are between 1.5 and 2.6. The X axis depicts the 50 different datasets that are produced. It is observed that the values are symmetrical to the line that depicts theta=2, due to a specific variance. Theta estimates are +0.5(-0.5) higher(lower) than the theta=2 of the actual model."
   ]
  }
 ],
 "metadata": {
  "kernelspec": {
   "display_name": "Python 3 (ipykernel)",
   "language": "python",
   "name": "python3"
  },
  "language_info": {
   "codemirror_mode": {
    "name": "ipython",
    "version": 3
   },
   "file_extension": ".py",
   "mimetype": "text/x-python",
   "name": "python",
   "nbconvert_exporter": "python",
   "pygments_lexer": "ipython3",
   "version": "3.8.8"
  }
 },
 "nbformat": 4,
 "nbformat_minor": 5
}
